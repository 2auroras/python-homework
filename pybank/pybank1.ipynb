{
 "cells": [
  {
   "cell_type": "code",
   "execution_count": 6,
   "metadata": {},
   "outputs": [],
   "source": [
    "from pathlib import Path\n",
    "import csv\n",
    "import numpy as np\n",
    "\n",
    "csvpath = ('Resources/budget_data.csv')"
   ]
  },
  {
   "cell_type": "code",
   "execution_count": 7,
   "metadata": {},
   "outputs": [],
   "source": [
    "#initialize variables\n",
    "months = []\n",
    "profits = []"
   ]
  },
  {
   "cell_type": "code",
   "execution_count": 8,
   "metadata": {},
   "outputs": [
    {
     "name": "stdout",
     "output_type": "stream",
     "text": [
      "['Jan-2010', 'Feb-2010', 'Mar-2010', 'Apr-2010', 'May-2010', 'Jun-2010', 'Jul-2010', 'Aug-2010', 'Sep-2010', 'Oct-2010', 'Nov-2010', 'Dec-2010', 'Jan-2011', 'Feb-2011', 'Mar-2011', 'Apr-2011', 'May-2011', 'Jun-2011', 'Jul-2011', 'Aug-2011', 'Sep-2011', 'Oct-2011', 'Nov-2011', 'Dec-2011', 'Jan-2012', 'Feb-2012', 'Mar-2012', 'Apr-2012', 'May-2012', 'Jun-2012', 'Jul-2012', 'Aug-2012', 'Sep-2012', 'Oct-2012', 'Nov-2012', 'Dec-2012', 'Jan-2013', 'Feb-2013', 'Mar-2013', 'Apr-2013', 'May-2013', 'Jun-2013', 'Jul-2013', 'Aug-2013', 'Sep-2013', 'Oct-2013', 'Nov-2013', 'Dec-2013', 'Jan-2014', 'Feb-2014', 'Mar-2014', 'Apr-2014', 'May-2014', 'Jun-2014', 'Jul-2014', 'Aug-2014', 'Sep-2014', 'Oct-2014', 'Nov-2014', 'Dec-2014', 'Jan-2015', 'Feb-2015', 'Mar-2015', 'Apr-2015', 'May-2015', 'Jun-2015', 'Jul-2015', 'Aug-2015', 'Sep-2015', 'Oct-2015', 'Nov-2015', 'Dec-2015', 'Jan-2016', 'Feb-2016', 'Mar-2016', 'Apr-2016', 'May-2016', 'Jun-2016', 'Jul-2016', 'Aug-2016', 'Sep-2016', 'Oct-2016', 'Nov-2016', 'Dec-2016', 'Jan-2017', 'Feb-2017']\n"
     ]
    }
   ],
   "source": [
    "#use csvreader to open file\n",
    "with open (csvpath, 'r') as csvfile:\n",
    "    \n",
    "    #pass opened file into csv reader\n",
    "    \n",
    "    csvreader = csv.reader(csvfile, delimiter = ',')\n",
    "\n",
    "#skip header and get profit values into profits list\n",
    "    header = next(csvreader)\n",
    "    \n",
    "    for row in csvreader:\n",
    "        month= row[0]\n",
    "        profit = int(row[1])\n",
    "        \n",
    "        months.append(month)\n",
    "        profits.append(profit)\n",
    "            \n",
    "# initialize metric variables then loop by rows\n",
    "print(months)\n",
    "min_profit = 0\n",
    "max_profit = 0\n",
    "total_profit = 0\n",
    "months_count = 0\n",
    "min_profit_date = \"\"\n",
    "average_delta_profit = np.mean(np.diff(profits))\n",
    "\n",
    "for profit in profits:\n",
    "\n",
    "    months_count += 1\n",
    "\n",
    "    total_profit += profit\n",
    "\n",
    "    if months_count == 1:\n",
    "        min_profit = profit\n",
    "        max_profit = profit\n",
    "    elif profit < min_profit:\n",
    "        min_profit = profit\n",
    "\n",
    "    elif profit > max_profit:\n",
    "        max_profit = profit\n",
    "        "
   ]
  },
  {
   "cell_type": "code",
   "execution_count": 9,
   "metadata": {},
   "outputs": [
    {
     "name": "stdout",
     "output_type": "stream",
     "text": [
      "Financial Analysis\n",
      "-------------------\n",
      "Total Months: 86\n",
      "Total Profit: $38382578\n",
      "Average Change: $-2315\n",
      "Greatest Increase in Profits: $1170593\n",
      "Greatest Decrease in Profits:  $-1196225\n"
     ]
    }
   ],
   "source": [
    "#Output to text file\n",
    "print(\"Financial Analysis\")               \n",
    "print(\"-------------------\")\n",
    "metrics = []\n",
    "print(f\"Total Months: {months_count}\")\n",
    "print(f\"Total Profit: ${total_profit}\")\n",
    "print(f\"Average Change: ${int(average_delta_profit)}\")\n",
    "print(f\"Greatest Increase in Profits: ${max_profit}\")\n",
    "print(f\"Greatest Decrease in Profits: {min_profit_date} ${min_profit}\")"
   ]
  },
  {
   "cell_type": "code",
   "execution_count": 12,
   "metadata": {},
   "outputs": [
    {
     "name": "stdout",
     "output_type": "stream",
     "text": [
      "[  116771  -662642  -391430   379920   212354   510239  -428211  -821271\n",
      "   693918   416278  -974163   860159 -1115009  1033048    95318  -308093\n",
      "    99052  -521393   605450   231727   -65187  -702716   177975 -1065544\n",
      "  1926159  -917805   898730  -334262  -246499   -64055 -1529236  1497596\n",
      "   304914  -635801   398319  -183161   -37864  -253689   403655    94168\n",
      "   306877   -83000   210462 -2196167  1465222  -956983  1838447  -468003\n",
      "   -64602   206242  -242155  -449079   315198   241099   111540   365942\n",
      "  -219310  -368665   409837   151210  -110244  -341938 -1212159   683246\n",
      "   -70825   335594   417334  -272194  -236462   657432  -211262  -128237\n",
      " -1750387   925441   932089  -311434   267252 -1876758  1733696   198551\n",
      "  -665765   693229  -734926    77242   532869]\n"
     ]
    }
   ],
   "source": [
    "print(np.diff(profits))"
   ]
  },
  {
   "cell_type": "code",
   "execution_count": 13,
   "metadata": {},
   "outputs": [],
   "source": [
    "diff_profits = [np.diff(profits)]"
   ]
  },
  {
   "cell_type": "code",
   "execution_count": 14,
   "metadata": {},
   "outputs": [
    {
     "name": "stdout",
     "output_type": "stream",
     "text": [
      "[array([  116771,  -662642,  -391430,   379920,   212354,   510239,\n",
      "        -428211,  -821271,   693918,   416278,  -974163,   860159,\n",
      "       -1115009,  1033048,    95318,  -308093,    99052,  -521393,\n",
      "         605450,   231727,   -65187,  -702716,   177975, -1065544,\n",
      "        1926159,  -917805,   898730,  -334262,  -246499,   -64055,\n",
      "       -1529236,  1497596,   304914,  -635801,   398319,  -183161,\n",
      "         -37864,  -253689,   403655,    94168,   306877,   -83000,\n",
      "         210462, -2196167,  1465222,  -956983,  1838447,  -468003,\n",
      "         -64602,   206242,  -242155,  -449079,   315198,   241099,\n",
      "         111540,   365942,  -219310,  -368665,   409837,   151210,\n",
      "        -110244,  -341938, -1212159,   683246,   -70825,   335594,\n",
      "         417334,  -272194,  -236462,   657432,  -211262,  -128237,\n",
      "       -1750387,   925441,   932089,  -311434,   267252, -1876758,\n",
      "        1733696,   198551,  -665765,   693229,  -734926,    77242,\n",
      "         532869])]\n"
     ]
    }
   ],
   "source": [
    "print(diff_profits)"
   ]
  },
  {
   "cell_type": "code",
   "execution_count": null,
   "metadata": {},
   "outputs": [],
   "source": []
  }
 ],
 "metadata": {
  "kernelspec": {
   "display_name": "Python 3",
   "language": "python",
   "name": "python3"
  },
  "language_info": {
   "codemirror_mode": {
    "name": "ipython",
    "version": 3
   },
   "file_extension": ".py",
   "mimetype": "text/x-python",
   "name": "python",
   "nbconvert_exporter": "python",
   "pygments_lexer": "ipython3",
   "version": "3.7.3"
  }
 },
 "nbformat": 4,
 "nbformat_minor": 4
}
