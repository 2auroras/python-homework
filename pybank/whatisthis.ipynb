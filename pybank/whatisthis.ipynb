{
 "cells": [
  {
   "cell_type": "code",
   "execution_count": 18,
   "metadata": {},
   "outputs": [
    {
     "name": "stdout",
     "output_type": "stream",
     "text": [
      "['Date', 'Profit/Losses']\n",
      "total profit: 38382578\n",
      "minimum profit: -1196225\n",
      "maximum profit: 1170593\n",
      "average profit: 446309.05\n",
      "months count: 86\n"
     ]
    }
   ],
   "source": [
    "from pathlib import Path\n",
    "import csv\n",
    "csvpath = ('Resources/budget_data.csv')\n",
    "\n",
    "#initialize variables\n",
    "\n",
    "profits = []\n",
    "\n",
    "\n",
    "#use csvreader to open file\n",
    "with open (csvpath, 'r') as csvfile:\n",
    "    \n",
    "    #pass opened file into csv reader\n",
    "    \n",
    "    csvreader = csv.reader(csvfile, delimiter = ',')\n",
    "    \n",
    "    #skip header\n",
    "    header = next(csvreader)\n",
    "    print(header)\n",
    "    \n",
    "    \n",
    "    \n",
    "    profit = 0\n",
    "\n",
    "    for row in csvreader:\n",
    "        #print(row)\n",
    "        profit = int(row[1])\n",
    "    \n",
    "    #append profit to profits list\n",
    "        profits.append(profit)\n",
    "        \n",
    "        \n",
    "#print(profits)   \n",
    " \n",
    "# initialize metric variables then loop by rows\n",
    "min_profit = 0\n",
    "max_profit = 0\n",
    "total_profit = 0\n",
    "months_count = 0\n",
    "\n",
    "for profit in profits:\n",
    "    months_count += 1\n",
    "    total_profit += profit\n",
    "    if months_count == 1:\n",
    "        min_profit = profit\n",
    "        max_profit = profit\n",
    "    elif profit < min_profit:\n",
    "        min_profit = profit\n",
    "    elif profit > max_profit:\n",
    "        max_profit = profit\n",
    "average_profit = round(total_profit/months_count, 2)\n",
    "print(f'total profit: {total_profit}')\n",
    "print(f'minimum profit: {min_profit}')\n",
    "print(f'maximum profit: {max_profit}')\n",
    "print(f'average profit: {average_profit}')\n",
    "print(f'months count: {months_count}')\n",
    "\n"
   ]
  },
  {
   "cell_type": "code",
   "execution_count": null,
   "metadata": {},
   "outputs": [],
   "source": []
  }
 ],
 "metadata": {
  "kernelspec": {
   "display_name": "Python 3",
   "language": "python",
   "name": "python3"
  },
  "language_info": {
   "codemirror_mode": {
    "name": "ipython",
    "version": 3
   },
   "file_extension": ".py",
   "mimetype": "text/x-python",
   "name": "python",
   "nbconvert_exporter": "python",
   "pygments_lexer": "ipython3",
   "version": "3.7.3"
  }
 },
 "nbformat": 4,
 "nbformat_minor": 4
}
