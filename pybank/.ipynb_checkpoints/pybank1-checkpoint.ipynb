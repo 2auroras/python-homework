{
 "cells": [
  {
   "cell_type": "code",
   "execution_count": 73,
   "metadata": {},
   "outputs": [
    {
     "name": "stdout",
     "output_type": "stream",
     "text": [
      "Financial Analysis\n",
      "-------------------\n",
      "Total Months: 86\n",
      "Total Profit: $38382578\n",
      "Average Change: $-2315\n",
      "Greatest Increase in Profits: $1170593\n",
      "Greatest Decrease in Profits: $-1196225\n"
     ]
    }
   ],
   "source": [
    "from pathlib import Path\n",
    "import csv\n",
    "import numpy as np\n",
    "\n",
    "csvpath = ('Resources/budget_data.csv')\n",
    "\n",
    "#initialize variables\n",
    "\n",
    "profits = []\n",
    "\n",
    "\n",
    "#use csvreader to open file\n",
    "with open (csvpath, 'r') as csvfile:\n",
    "    \n",
    "    #pass opened file into csv reader\n",
    "    \n",
    "    csvreader = csv.reader(csvfile, delimiter = ',')\n",
    "    \n",
    "    #skip header\n",
    "    header = next(csvreader)\n",
    "    \n",
    "    for row in csvreader:\n",
    "        #print(row)\n",
    "        profit = int(row[1])\n",
    "    \n",
    "    #append profit to profits list\n",
    "        profits.append(profit)\n",
    "        \n",
    "        \n",
    "#print(profits)   \n",
    " \n",
    "# initialize metric variables then loop by rows\n",
    "\n",
    "min_profit = 0\n",
    "max_profit = 0\n",
    "total_profit = 0\n",
    "months_count = 0\n",
    "avg_delta_profit = 0\n",
    "\n",
    "for profit in profits:\n",
    "\n",
    "    months_count += 1\n",
    "    total_profit += profit\n",
    "    \n",
    "    if months_count == 1:\n",
    "        min_profit = profit\n",
    "        max_profit = profit\n",
    "    elif profit < min_profit:\n",
    "        min_profit = profit\n",
    "    elif profit > max_profit:\n",
    "        max_profit = profit\n",
    "\n",
    "average_delta_profit = np.mean(np.diff(profits))\n",
    "                             \n",
    "#Output to text file\n",
    "\n",
    "print(\"Financial Analysis\")               \n",
    "print(\"-------------------\")\n",
    "metrics = []\n",
    "print(f'Total Months: {months_count}')\n",
    "print(f'Total Profit: ${total_profit}')\n",
    "print(f\"Average Change: ${int(average_delta_profit)}\")\n",
    "print(f'Greatest Increase in Profits: ${max_profit}')\n",
    "print(f'Greatest Decrease in Profits: ${min_profit}')"
   ]
  },
  {
   "cell_type": "code",
   "execution_count": null,
   "metadata": {},
   "outputs": [],
   "source": []
  }
 ],
 "metadata": {
  "kernelspec": {
   "display_name": "Python 3",
   "language": "python",
   "name": "python3"
  },
  "language_info": {
   "codemirror_mode": {
    "name": "ipython",
    "version": 3
   },
   "file_extension": ".py",
   "mimetype": "text/x-python",
   "name": "python",
   "nbconvert_exporter": "python",
   "pygments_lexer": "ipython3",
   "version": "3.7.3"
  }
 },
 "nbformat": 4,
 "nbformat_minor": 4
}
